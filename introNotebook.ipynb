{
 "cells": [
  {
   "cell_type": "markdown",
   "metadata": {},
   "source": [
    "# Welcome to a Jupyter(/iPython) notebook\n",
    "You may be very familiar with these or it may all be brand new. If the former, stick with us, if the latter, welcome to a fantastic new tool.\n",
    "\n",
    "The reason we use Jupyter is it allows us to break up code into manageable chunks, which is great for writing and testing new code.\n",
    "\n",
    "You can use it with a variety of programming languages but here we'll use python (I'm writing in python 3 but hopefully everything should work for python 2 as well).\n",
    "\n",
    "A notebook appears in the browser, making it easy to use and interact with, but it's not running online. Instead python is running somewhere in the background of your computer and we're just interacting with it through here."
   ]
  },
  {
   "cell_type": "markdown",
   "metadata": {},
   "source": [
    "## A simple introduction\n",
    "Each cell in a notebook is a self contained bit of code, you can run it all by itself by selecting it and pressing \"shift\"+\"return\".\n",
    "\n",
    "Try running the very simple cell below."
   ]
  },
  {
   "cell_type": "code",
   "execution_count": 1,
   "metadata": {
    "collapsed": false
   },
   "outputs": [
    {
     "name": "stdout",
     "output_type": "stream",
     "text": [
      "('c is equal to ', 3)\n"
     ]
    }
   ],
   "source": [
    "a=1\n",
    "b=2\n",
    "c=a+b\n",
    "print('c is equal to ',c)"
   ]
  },
  {
   "cell_type": "markdown",
   "metadata": {},
   "source": [
    "Notice the output is shown just below the cell. Later we'll show you how to also display plots in the notebook too.\n",
    "\n",
    "The variables don't just exist in that one cell. Now the whole notebook has a, b and c stored and you can access and change them just as you would in one continous block of code.\n",
    "\n",
    "E.g."
   ]
  },
  {
   "cell_type": "code",
   "execution_count": 2,
   "metadata": {
    "collapsed": false
   },
   "outputs": [
    {
     "name": "stdout",
     "output_type": "stream",
     "text": [
      "('c squared is ', 9)\n"
     ]
    }
   ],
   "source": [
    "print('c squared is ',c**2)"
   ]
  },
  {
   "cell_type": "markdown",
   "metadata": {},
   "source": [
    "When you run a cell you're effectively adding those lines to an existing bit of code. You can run them in any order, and they will be executed in that order.\n",
    "\n",
    "For example try running the cell below followed by the one above and repeating a few times"
   ]
  },
  {
   "cell_type": "code",
   "execution_count": 8,
   "metadata": {
    "collapsed": false
   },
   "outputs": [
    {
     "name": "stdout",
     "output_type": "stream",
     "text": [
      "now c is  10\n"
     ]
    }
   ],
   "source": [
    "c+=1\n",
    "print('now c is ',c)"
   ]
  },
  {
   "cell_type": "markdown",
   "metadata": {},
   "source": [
    "## Challenge - one cell fibonacci sequence\n",
    "Can you write a cell that each time you execute it will output the next number in the fibonacci sequence (which is the sum of the last two terms)\n",
    "\n",
    "E.g. 1, 1, 2, 3, 5, 8, 13, 21, 34 etc...\n",
    "\n",
    "(Hint: You can use a and b from above to start you off) \n",
    "\n",
    "Extra challenge, how few lines can you do it in?"
   ]
  },
  {
   "cell_type": "code",
   "execution_count": 6,
   "metadata": {
    "collapsed": false
   },
   "outputs": [
    {
     "name": "stdout",
     "output_type": "stream",
     "text": [
      "2\n"
     ]
    }
   ],
   "source": [
    "import numpy as np\n",
    "a=1\n",
    "b=2\n",
    "\n",
    "temp =b\n",
    "b=a+b\n",
    "a=temp\n",
    "print a\n"
   ]
  },
  {
   "cell_type": "code",
   "execution_count": null,
   "metadata": {
    "collapsed": true
   },
   "outputs": [],
   "source": []
  }
 ],
 "metadata": {
  "kernelspec": {
   "display_name": "Python 2",
   "language": "python",
   "name": "python2"
  },
  "language_info": {
   "codemirror_mode": {
    "name": "ipython",
    "version": 2
   },
   "file_extension": ".py",
   "mimetype": "text/x-python",
   "name": "python",
   "nbconvert_exporter": "python",
   "pygments_lexer": "ipython2",
   "version": "2.7.13"
  }
 },
 "nbformat": 4,
 "nbformat_minor": 2
}
